{
  "nbformat": 4,
  "nbformat_minor": 0,
  "metadata": {
    "colab": {
      "provenance": []
    },
    "kernelspec": {
      "name": "python3",
      "display_name": "Python 3"
    },
    "language_info": {
      "name": "python"
    }
  },
  "cells": [
    {
      "cell_type": "code",
      "execution_count": 1,
      "metadata": {
        "colab": {
          "base_uri": "https://localhost:8080/"
        },
        "id": "AIAQ85HZ2PQM",
        "outputId": "a5b28c19-acbe-4422-fd09-2f6e8144b68b"
      },
      "outputs": [
        {
          "output_type": "stream",
          "name": "stdout",
          "text": [
            "Cross-validation scores: [0.96078431 0.94117647 0.90196078 0.88       0.82      ]\n",
            "Average accuracy: 90.08%\n"
          ]
        }
      ],
      "source": [
        "import pandas as pd\n",
        "import numpy as np\n",
        "from sklearn.ensemble import RandomForestClassifier\n",
        "from sklearn.impute import KNNImputer\n",
        "from sklearn.model_selection import cross_val_score\n",
        "\n",
        "\n",
        "\n",
        "train_data = pd.read_csv(r'/content/drive/MyDrive/AI_dataset/train.csv')\n",
        "test_data = pd.read_csv(r'/content/drive/MyDrive/AI_dataset/test.csv')\n",
        "\n",
        "\n",
        "train_data.columns = ['Name', '10th %age', '12th %age', 'College %age', 'Automata(Score_5154)', 'Placement']\n",
        "train_data=train_data.drop('Name',axis=1)\n",
        "imputer=KNNImputer(n_neighbors=5)\n",
        "train_data_imputed=pd.DataFrame(imputer.fit_transform(train_data),columns=train_data.columns)\n",
        "\n",
        "\n",
        "\n",
        "test_data.rename(columns={'10th %': '10th %age', '12%': '12th %age', 'College%': 'College %age', 'Amcat': 'Automata(Score_5154)'}, inplace=True)\n",
        "test_data=test_data.drop('Name',axis=1)\n",
        "imputer=KNNImputer(n_neighbors=5)\n",
        "test_data_imputed=pd.DataFrame(imputer.fit_transform(test_data),columns=test_data.columns)\n",
        "\n",
        "\n",
        "# Extract features and target variable for training\n",
        "X_train = train_data_imputed[['10th %age', '12th %age', 'College %age', 'Automata(Score_5154)']]\n",
        "y_train = train_data_imputed['Placement']\n",
        "\n",
        "# Extract features for testing\n",
        "X_test = test_data_imputed[['10th %age', '12th %age', 'College %age', 'Automata(Score_5154)']]\n",
        "\n",
        "clf = RandomForestClassifier(random_state=45)\n",
        "\n",
        "\n",
        "clf.fit(X_train, y_train)\n",
        "\n",
        "y_Pred=clf.predict(X_test)\n",
        "\n",
        "\n",
        "cv_scores = cross_val_score(clf, X_train, y_train, cv=5)\n",
        "\n",
        "print(\"Cross-validation scores:\", cv_scores)\n",
        "print(f\"Average accuracy: {cv_scores.mean() * 100:.2f}%\")\n"
      ]
    },
    {
      "cell_type": "code",
      "source": [
        "import pandas as pd\n",
        "\n",
        "\n",
        "predictions_data = pd.DataFrame({'Predicted_Placement': y_Pred})\n",
        "\n",
        "predictions_data['Studid'] = test_data['Studid']\n",
        "\n",
        "predictions_data = predictions_data[['Studid', 'Predicted_Placement']]\n",
        "\n",
        "# Save the DataFrame to a CSV file\n",
        "predictions_data.to_csv('predictions.csv', index=False)\n",
        "print(\"Predictions have been saved to predictions.csv\")"
      ],
      "metadata": {
        "colab": {
          "base_uri": "https://localhost:8080/"
        },
        "id": "cLjH81Eo2YUf",
        "outputId": "17479b92-2b16-4838-dc2d-d1664a8bb4a4"
      },
      "execution_count": 2,
      "outputs": [
        {
          "output_type": "stream",
          "name": "stdout",
          "text": [
            "Predictions have been saved to predictions.csv\n"
          ]
        }
      ]
    },
    {
      "cell_type": "code",
      "source": [
        "import pandas as pd\n",
        "import numpy as np\n",
        "from sklearn.tree import DecisionTreeClassifier\n",
        "from sklearn.impute import KNNImputer\n",
        "from sklearn.model_selection import cross_val_score\n",
        "\n",
        "\n",
        "\n",
        "train_data = pd.read_csv(r'/content/drive/MyDrive/AI_dataset/train.csv')\n",
        "test_data = pd.read_csv(r'/content/drive/MyDrive/AI_dataset/test.csv')\n",
        "\n",
        "\n",
        "train_data.columns = ['Name', '10th %age', '12th %age', 'College %age', 'Automata(Score_5154)', 'Placement']\n",
        "train_data=train_data.drop('Name',axis=1)\n",
        "imputer=KNNImputer(n_neighbors=5)\n",
        "train_data_imputed=pd.DataFrame(imputer.fit_transform(train_data),columns=train_data.columns)\n",
        "\n",
        "\n",
        "\n",
        "test_data.rename(columns={'10th %': '10th %age', '12%': '12th %age', 'College%': 'College %age', 'Amcat': 'Automata(Score_5154)'}, inplace=True)\n",
        "test_data=test_data.drop('Name',axis=1)\n",
        "imputer=KNNImputer(n_neighbors=5)\n",
        "test_data_imputed=pd.DataFrame(imputer.fit_transform(test_data),columns=test_data.columns)\n",
        "\n",
        "\n",
        "# Extract features and target variable for training\n",
        "X_train = train_data_imputed[['10th %age', '12th %age', 'College %age', 'Automata(Score_5154)']]\n",
        "y_train = train_data_imputed['Placement']\n",
        "\n",
        "# Extract features for testing\n",
        "X_test = test_data_imputed[['10th %age', '12th %age', 'College %age', 'Automata(Score_5154)']]\n",
        "\n",
        "clf = DecisionTreeClassifier()\n",
        "\n",
        "\n",
        "clf.fit(X_train, y_train)\n",
        "\n",
        "y_Pred=clf.predict(X_test)\n",
        "\n",
        "\n",
        "cv_scores = cross_val_score(clf, X_train, y_train, cv=5)\n",
        "\n",
        "print(\"Cross-validation scores:\", cv_scores)\n",
        "print(f\"Average accuracy: {cv_scores.mean() * 100:.2f}%\")\n"
      ],
      "metadata": {
        "colab": {
          "base_uri": "https://localhost:8080/"
        },
        "id": "iIg73Q9EhkUW",
        "outputId": "fc572b68-4118-4540-a0de-0ba1c8f65301"
      },
      "execution_count": null,
      "outputs": [
        {
          "output_type": "stream",
          "name": "stdout",
          "text": [
            "Cross-validation scores: [0.88235294 0.82352941 0.82352941 0.84       0.88      ]\n",
            "Average accuracy: 84.99%\n"
          ]
        }
      ]
    },
    {
      "cell_type": "code",
      "source": [
        "import pandas as pd\n",
        "import numpy as np\n",
        "from sklearn.svm import SVC\n",
        "from sklearn.impute import KNNImputer\n",
        "from sklearn.model_selection import cross_val_score\n",
        "\n",
        "\n",
        "\n",
        "train_data = pd.read_csv(r'/content/drive/MyDrive/AI_dataset/train.csv')\n",
        "test_data = pd.read_csv(r'/content/drive/MyDrive/AI_dataset/test.csv')\n",
        "\n",
        "\n",
        "train_data.columns = ['Name', '10th %age', '12th %age', 'College %age', 'Automata(Score_5154)', 'Placement']\n",
        "train_data=train_data.drop('Name',axis=1)\n",
        "imputer=KNNImputer(n_neighbors=5)\n",
        "train_data_imputed=pd.DataFrame(imputer.fit_transform(train_data),columns=train_data.columns)\n",
        "\n",
        "\n",
        "\n",
        "test_data.rename(columns={'10th %': '10th %age', '12%': '12th %age', 'College%': 'College %age', 'Amcat': 'Automata(Score_5154)'}, inplace=True)\n",
        "test_data=test_data.drop('Name',axis=1)\n",
        "imputer=KNNImputer(n_neighbors=5)\n",
        "test_data_imputed=pd.DataFrame(imputer.fit_transform(test_data),columns=test_data.columns)\n",
        "\n",
        "\n",
        "X_train = train_data_imputed[['10th %age', '12th %age', 'College %age', 'Automata(Score_5154)']]\n",
        "y_train = train_data_imputed['Placement']\n",
        "\n",
        "\n",
        "X_test = test_data_imputed[['10th %age', '12th %age', 'College %age', 'Automata(Score_5154)']]\n",
        "\n",
        "\n",
        "\n",
        "clf_svm = SVC(random_state=44)\n",
        "\n",
        "\n",
        "clf_svm.fit(X_train, y_train)\n",
        "\n",
        "\n",
        "y_pred_svm = clf_svm.predict(X_test)\n",
        "\n",
        "\n",
        "cv_scores_svm = cross_val_score(clf_svm, X_train, y_train, cv=5)\n",
        "\n",
        "print(\"Cross-validation scores (SVM):\", cv_scores_svm)\n",
        "print(f\"Average accuracy: {cv_scores_svm.mean() * 100:.2f}%\")\n"
      ],
      "metadata": {
        "colab": {
          "base_uri": "https://localhost:8080/"
        },
        "id": "YL76hyPJi2lS",
        "outputId": "bfb6f0a9-edb8-4f19-d981-9e8fd6584bf1"
      },
      "execution_count": null,
      "outputs": [
        {
          "output_type": "stream",
          "name": "stdout",
          "text": [
            "Cross-validation scores (SVM): [0.96078431 0.92156863 0.90196078 0.86       0.82      ]\n",
            "Average accuracy: 89.29%\n"
          ]
        }
      ]
    },
    {
      "cell_type": "code",
      "source": [
        "\n",
        "import pandas as pd\n",
        "import numpy as np\n",
        "from sklearn.linear_model import LogisticRegression\n",
        "from sklearn.impute import KNNImputer\n",
        "from sklearn.model_selection import cross_val_score\n",
        "\n",
        "\n",
        "train_data = pd.read_csv(r'/content/drive/MyDrive/AI_dataset/train.csv')\n",
        "test_data = pd.read_csv(r'/content/drive/MyDrive/AI_dataset/test.csv')\n",
        "\n",
        "\n",
        "train_data.columns = ['Name', '10th %age', '12th %age', 'College %age', 'Automata(Score_5154)', 'Placement']\n",
        "train_data=train_data.drop('Name',axis=1)\n",
        "imputer=KNNImputer(n_neighbors=5)\n",
        "train_data_imputed=pd.DataFrame(imputer.fit_transform(train_data),columns=train_data.columns)\n",
        "\n",
        "\n",
        "\n",
        "test_data.rename(columns={'10th %': '10th %age', '12%': '12th %age', 'College%': 'College %age', 'Amcat': 'Automata(Score_5154)'}, inplace=True)\n",
        "test_data=test_data.drop('Name',axis=1)\n",
        "imputer=KNNImputer(n_neighbors=5)\n",
        "test_data_imputed=pd.DataFrame(imputer.fit_transform(test_data),columns=test_data.columns)\n",
        "\n",
        "\n",
        "X_train = train_data_imputed[['10th %age', '12th %age', 'College %age', 'Automata(Score_5154)']]\n",
        "y_train = train_data_imputed['Placement']\n",
        "\n",
        "\n",
        "X_test = test_data_imputed[['10th %age', '12th %age', 'College %age', 'Automata(Score_5154)']]\n",
        "\n",
        "\n",
        "\n",
        "\n",
        "model = LogisticRegression()\n",
        "\n",
        "model.fit(X_train, y_train)\n",
        "\n",
        "y_pred = model.predict(X_test)\n",
        "\n",
        "cv_scores_lst = cross_val_score(model, X_train, y_train, cv=5)\n",
        "\n",
        "print(\"Cross-validation scores (SVM):\", cv_scores_lst)\n",
        "print(f\"Average accuracy: {cv_scores_lst.mean() * 100:.2f}%\")\n"
      ],
      "metadata": {
        "colab": {
          "base_uri": "https://localhost:8080/"
        },
        "id": "ZNbMRg3InJ9U",
        "outputId": "69adcbd4-692d-4950-dc24-6e304493d65d"
      },
      "execution_count": null,
      "outputs": [
        {
          "output_type": "stream",
          "name": "stdout",
          "text": [
            "Cross-validation scores (SVM): [0.98039216 0.92156863 0.8627451  0.86       0.84      ]\n",
            "Average accuracy: 89.29%\n"
          ]
        }
      ]
    },
    {
      "cell_type": "code",
      "source": [
        "import pandas as pd\n",
        "from sklearn.ensemble import RandomForestClassifier\n",
        "from sklearn.impute import KNNImputer\n",
        "from sklearn.model_selection import train_test_split, cross_val_score\n",
        "from sklearn.metrics import classification_report\n",
        "\n",
        "\n",
        "train_data = pd.read_csv(r'/content/drive/MyDrive/AI_dataset/train.csv')\n",
        "test_data = pd.read_csv(r'/content/drive/MyDrive/AI_dataset/test.csv')\n",
        "\n",
        "train_data.columns = ['Name', '10th %age', '12th %age', 'College %age', 'Automata(Score_5154)', 'Placement']\n",
        "train_data = train_data.drop('Name', axis=1)\n",
        "imputer = KNNImputer(n_neighbors=5)\n",
        "train_data_imputed = pd.DataFrame(imputer.fit_transform(train_data), columns=train_data.columns)\n",
        "\n",
        "test_data.rename(columns={'10th %': '10th %age', '12%': '12th %age', 'College%': 'College %age', 'Amcat': 'Automata(Score_5154)'}, inplace=True)\n",
        "test_data = test_data.drop('Name', axis=1)\n",
        "imputer = KNNImputer(n_neighbors=5)\n",
        "test_data_imputed = pd.DataFrame(imputer.fit_transform(test_data), columns=test_data.columns)\n",
        "\n",
        "\n",
        "X_train = train_data_imputed[['10th %age', '12th %age', 'College %age', 'Automata(Score_5154)']]\n",
        "y_train = train_data_imputed['Placement']\n",
        "\n",
        "\n",
        "\n",
        "X_train_split, X_test_split, y_train_split, y_test_split = train_test_split(X_train, y_train, test_size=0.2, random_state=42)\n",
        "\n",
        "clf = RandomForestClassifier(random_state=45)\n",
        "\n",
        "clf.fit(X_train_split, y_train_split)\n",
        "\n",
        "y_Pred = clf.predict(X_train_split)\n",
        "\n",
        "cv_scores = cross_val_score(clf, X_train_split, y_train_split, cv=5)\n",
        "\n",
        "print(\"Cross-validation scores:\", cv_scores)\n",
        "print(f\"Average accuracy: {cv_scores.mean() * 100:.2f}%\")\n",
        "\n",
        "\n",
        "solution = pd.read_csv(r'/content/drive/MyDrive/AI_dataset/solution.csv')\n",
        "solution = solution.drop(['Studid'], axis=1)\n",
        "\n",
        "\n",
        "y_test_pred = clf.predict( X_test_split)\n",
        "\n",
        "\n",
        "print(classification_report(y_test_split, y_test_pred))\n"
      ],
      "metadata": {
        "colab": {
          "base_uri": "https://localhost:8080/"
        },
        "id": "kNe2HfHu1wO1",
        "outputId": "1926abf0-7eb0-4834-b3e7-1df26ab06eef"
      },
      "execution_count": null,
      "outputs": [
        {
          "output_type": "stream",
          "name": "stdout",
          "text": [
            "Cross-validation scores: [0.90243902 0.85365854 0.925      0.975      0.85      ]\n",
            "Average accuracy: 90.12%\n",
            "              precision    recall  f1-score   support\n",
            "\n",
            "         0.0       1.00      0.71      0.83        17\n",
            "         1.0       0.87      1.00      0.93        34\n",
            "\n",
            "    accuracy                           0.90        51\n",
            "   macro avg       0.94      0.85      0.88        51\n",
            "weighted avg       0.91      0.90      0.90        51\n",
            "\n"
          ]
        }
      ]
    }
  ]
}